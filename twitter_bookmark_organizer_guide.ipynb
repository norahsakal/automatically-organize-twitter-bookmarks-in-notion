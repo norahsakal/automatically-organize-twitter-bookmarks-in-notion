{
 "cells": [
  {
   "cell_type": "code",
   "execution_count": null,
   "id": "d4e2fef4",
   "metadata": {},
   "outputs": [],
   "source": [
    "import base64\n",
    "import datetime\n",
    "import hashlib\n",
    "import json\n",
    "import os\n",
    "import re\n",
    "import requests\n",
    "from time import sleep\n",
    "\n",
    "from requests.auth import AuthBase, HTTPBasicAuth\n",
    "from requests_oauthlib import OAuth2Session"
   ]
  },
  {
   "cell_type": "markdown",
   "id": "22c5f944",
   "metadata": {},
   "source": [
    "## Inspiration\n",
    "The steps of generating an OAuth 2.0 token is inspired by this repo: https://github.com/twitterdev/Twitter-API-v2-sample-code/blob/main/Bookmarks-lookup/bookmarks_lookup.py"
   ]
  },
  {
   "cell_type": "markdown",
   "id": "d51f5ed9",
   "metadata": {},
   "source": [
    "## Twitter credentials"
   ]
  },
  {
   "cell_type": "code",
   "execution_count": null,
   "id": "2dc3642e",
   "metadata": {},
   "outputs": [],
   "source": [
    "client_id = \"YOUR_CLIENT_ID\"\n",
    "client_secret = \"YOUR_CLIENT_SECRET\"\n",
    "redirect_uri = \"YOUR_REDIRECT_URL\""
   ]
  },
  {
   "cell_type": "markdown",
   "id": "d8a43022",
   "metadata": {},
   "source": [
    "## Set up permission scope"
   ]
  },
  {
   "cell_type": "code",
   "execution_count": null,
   "id": "8022ac26",
   "metadata": {},
   "outputs": [],
   "source": [
    "# Set the scopes\n",
    "# offline.access makes it possible to fetch \n",
    "# a new refresh token when the access token have expired\n",
    "scopes = [\"bookmark.read\", \"tweet.read\", \"users.read\", \"offline.access\"]"
   ]
  },
  {
   "cell_type": "markdown",
   "id": "dd22de08",
   "metadata": {},
   "source": [
    "## Create a code verifier"
   ]
  },
  {
   "cell_type": "code",
   "execution_count": null,
   "id": "319f1836",
   "metadata": {},
   "outputs": [],
   "source": [
    "code_verifier = base64.urlsafe_b64encode(os.urandom(30)).decode(\"utf-8\")\n",
    "code_verifier = re.sub(\"[^a-zA-Z0-9]+\", \"\", code_verifier)"
   ]
  },
  {
   "cell_type": "markdown",
   "id": "2b45973c",
   "metadata": {},
   "source": [
    "## Create a code challenge"
   ]
  },
  {
   "cell_type": "code",
   "execution_count": null,
   "id": "01010ef5",
   "metadata": {},
   "outputs": [],
   "source": [
    "code_challenge = hashlib.sha256(code_verifier.encode(\"utf-8\")).digest()\n",
    "code_challenge = base64.urlsafe_b64encode(code_challenge).decode(\"utf-8\")\n",
    "code_challenge = code_challenge.replace(\"=\", \"\")"
   ]
  },
  {
   "cell_type": "markdown",
   "id": "724ef413",
   "metadata": {},
   "source": [
    "## Start an OAuth 2.0 session"
   ]
  },
  {
   "cell_type": "code",
   "execution_count": null,
   "id": "865e57af",
   "metadata": {},
   "outputs": [],
   "source": [
    "oauth = OAuth2Session(client_id, redirect_uri=redirect_uri, scope=scopes)"
   ]
  },
  {
   "cell_type": "markdown",
   "id": "fa139c87",
   "metadata": {},
   "source": [
    "## Create an authorize URL"
   ]
  },
  {
   "cell_type": "code",
   "execution_count": null,
   "id": "d3313b5c",
   "metadata": {},
   "outputs": [],
   "source": [
    "auth_url = \"https://twitter.com/i/oauth2/authorize\"\n",
    "authorization_url, state = oauth.authorization_url(\n",
    "    auth_url, code_challenge=code_challenge, code_challenge_method=\"S256\"\n",
    ")\n",
    "\n",
    "# Visit the URL you received and authorize your app\n",
    "print(authorization_url)"
   ]
  },
  {
   "cell_type": "markdown",
   "id": "ca25805b",
   "metadata": {},
   "source": [
    "## Save the URL you got redirected to after authorization"
   ]
  },
  {
   "cell_type": "code",
   "execution_count": null,
   "id": "0bb49029",
   "metadata": {},
   "outputs": [],
   "source": [
    "authorization_response = \"THE_URL_YOU_GOT_REDIRECTED_TO_AFTER_AUTHORIZATION\""
   ]
  },
  {
   "cell_type": "markdown",
   "id": "5c7ce250",
   "metadata": {},
   "source": [
    "## Fetch your access token"
   ]
  },
  {
   "cell_type": "code",
   "execution_count": null,
   "id": "d23b3b4d",
   "metadata": {},
   "outputs": [],
   "source": [
    "token_url = \"https://api.twitter.com/2/oauth2/token\"\n",
    "auth = HTTPBasicAuth(client_id, client_secret)"
   ]
  },
  {
   "cell_type": "code",
   "execution_count": null,
   "id": "328edb10",
   "metadata": {},
   "outputs": [],
   "source": [
    "token = oauth.fetch_token(\n",
    "    token_url=token_url,\n",
    "    authorization_response=authorization_response,\n",
    "    auth=auth,\n",
    "    client_id=client_id,\n",
    "    include_client_id=True,\n",
    "    code_verifier=code_verifier,\n",
    ")"
   ]
  },
  {
   "cell_type": "code",
   "execution_count": null,
   "id": "c8e31438",
   "metadata": {},
   "outputs": [],
   "source": [
    "token"
   ]
  },
  {
   "cell_type": "markdown",
   "id": "ccdaf3e4",
   "metadata": {},
   "source": [
    "## Your access token"
   ]
  },
  {
   "cell_type": "code",
   "execution_count": null,
   "id": "7a1555be",
   "metadata": {},
   "outputs": [],
   "source": [
    "access_token = token[\"access_token\"]"
   ]
  },
  {
   "cell_type": "markdown",
   "id": "4dbb98b2",
   "metadata": {},
   "source": [
    "## Make a request to the users/me endpoint to get your user ID"
   ]
  },
  {
   "cell_type": "code",
   "execution_count": null,
   "id": "f401101b",
   "metadata": {},
   "outputs": [],
   "source": [
    "user_me = requests.get(\n",
    "    \"https://api.twitter.com/2/users/me\",\n",
    "    headers={\"Authorization\": f\"Bearer {access_token}\"},\n",
    ").json()\n",
    "\n",
    "user_id = user_me[\"data\"][\"id\"]"
   ]
  },
  {
   "cell_type": "code",
   "execution_count": null,
   "id": "5f0657d1",
   "metadata": {},
   "outputs": [],
   "source": [
    "user_id"
   ]
  },
  {
   "cell_type": "markdown",
   "id": "c37b0fd3",
   "metadata": {},
   "source": [
    "## Make a request to the bookmarks url"
   ]
  },
  {
   "cell_type": "code",
   "execution_count": null,
   "id": "eeec36b3",
   "metadata": {},
   "outputs": [],
   "source": [
    "url = f\"https://api.twitter.com/2/users/{user_id}/bookmarks\"\n",
    "headers = {\n",
    "    \"Authorization\": f\"Bearer {access_token}\",\n",
    "}\n",
    "response = requests.get(url, headers=headers, params={\n",
    "    'tweet.fields':'author_id,created_at',\n",
    "    'expansions':'author_id',\n",
    "    'user.fields':'username',\n",
    "})\n",
    "response.json()"
   ]
  },
  {
   "cell_type": "code",
   "execution_count": null,
   "id": "71ae7027",
   "metadata": {},
   "outputs": [],
   "source": [
    "print(\"Response:\\n\", response.json().keys(), '\\n')\n",
    "print(\"Bookmark #1:\\n\", response.json()['data'][0], '\\n')\n",
    "print(\"User #1:\\n\", response.json()['includes']['users'][0], '\\n')"
   ]
  },
  {
   "cell_type": "markdown",
   "id": "e2691a59",
   "metadata": {},
   "source": [
    "## Create variable with tweets"
   ]
  },
  {
   "cell_type": "code",
   "execution_count": null,
   "id": "1dae4293",
   "metadata": {},
   "outputs": [],
   "source": [
    "tweets = response.json()['data']"
   ]
  },
  {
   "cell_type": "markdown",
   "id": "c4dbd7f3",
   "metadata": {},
   "source": [
    "## Create mapping dict for user data"
   ]
  },
  {
   "cell_type": "code",
   "execution_count": null,
   "id": "a5cc991d",
   "metadata": {},
   "outputs": [],
   "source": [
    "user_mapping = {user['id']:user for user in response.json()['includes']['users']}"
   ]
  },
  {
   "cell_type": "markdown",
   "id": "50c5752d",
   "metadata": {},
   "source": [
    "## Combine bookmarks with user data"
   ]
  },
  {
   "cell_type": "code",
   "execution_count": null,
   "id": "86dc06fe",
   "metadata": {},
   "outputs": [],
   "source": [
    "for tweet in tweets:\n",
    "    tweet.update({\n",
    "        'name':user_mapping[tweet['author_id']]['name'], \n",
    "        'username': user_mapping[tweet['author_id']]['username']\n",
    "    })\n"
   ]
  },
  {
   "cell_type": "markdown",
   "id": "8c0a526d",
   "metadata": {},
   "source": [
    "## Optional: populate tweets with keywords with GPT-3"
   ]
  },
  {
   "cell_type": "code",
   "execution_count": null,
   "id": "cc524abf",
   "metadata": {},
   "outputs": [],
   "source": [
    "import openai\n",
    "\n",
    "# Open AI API key\n",
    "api_key =\"YOUR_OPEN_AI_GPT3_API_KEY\"\n",
    "\n",
    "for i, tweet in enumerate(tweets, start=1):\n",
    "\n",
    "    print(f\"Processing {i}/{len(tweets)} tweets\", end='\\r')\n",
    "    \n",
    "    # Create a prompt for the completion endpoint\n",
    "    prompt = f\"Here is a tweet, give me 5 keywords, each keyword on a new line, that describe what the tweet is about \\n\\n --- tweet start ---- \\n\\n  {tweet['text']} \\n\\n  --- tweet end ---:\"\n",
    "    \n",
    "    response_gpt3 = openai.Completion.create(\n",
    "      model=\"text-davinci-002\",\n",
    "      prompt=prompt,\n",
    "      temperature=0.7,\n",
    "      max_tokens=100,\n",
    "      top_p=1,\n",
    "      frequency_penalty=0,\n",
    "      presence_penalty=0\n",
    "    )\n",
    "    \n",
    "    # Update tweet with keywords\n",
    "    tweet.update({'keywords':response_gpt3['choices'][0]['text'].strip()})\n",
    "    \n",
    "    "
   ]
  },
  {
   "cell_type": "markdown",
   "id": "b89b9593",
   "metadata": {},
   "source": [
    "## Add tweet to Notion database    "
   ]
  },
  {
   "cell_type": "code",
   "execution_count": null,
   "id": "2046b4de",
   "metadata": {},
   "outputs": [],
   "source": [
    "# Get the API key from the environment variable\n",
    "notion_key = \"YOUR_NOTION_INTEGRATION_KEY\"\n",
    "\n",
    "# Get the database ID from the environment variable\n",
    "notion_database_id = \"YOUR_NOTION_DATABASE_ID\"\n",
    "\n",
    "# Set the headers\n",
    "headers = {\n",
    "    'Authorization': 'Bearer ' + notion_key,\n",
    "    'Content-Type': 'application/json',\n",
    "    'Notion-Version': '2021-08-16'\n",
    "}\n",
    "\n",
    "# Create the payload and make request\n",
    "for i,tweet in enumerate(tweets, start=1):\n",
    "\n",
    "    payload = {\n",
    "        'parent': { 'database_id': notion_database_id },\n",
    "        'properties': {\n",
    "            'title': {\n",
    "                'title': [\n",
    "                    {\n",
    "                        'text': {\n",
    "                            'content':  tweet['username']\n",
    "                        }\n",
    "                    }\n",
    "                ]\n",
    "            },\n",
    "           \"Keywords\": {\"rich_text\": [{ \"type\": \"text\", \"text\": { \"content\": tweet['keywords'] } }]},\n",
    "            \"Name\": {\"rich_text\": [{ \"type\": \"text\", \"text\": { \"content\": tweet['name'] } }]},\n",
    "            \"Tweet\": {\"rich_text\": [{ \"type\": \"text\", \"text\": { \"content\": tweet['text'] } }]},\n",
    "            \"URL\": {'url': f\"https://twitter.com/twitter/status/{tweet['id']}\"},\n",
    "            \"Tweeted at\": {\"date\": {\"start\": tweet['created_at'] }}\n",
    "\n",
    "        }\n",
    "    }\n",
    "\n",
    "    # Make the request\n",
    "    r = requests.post('https://api.notion.com/v1/pages', headers=headers, data=json.dumps(payload))\n",
    "\n",
    "    # Print the response\n",
    "    print(f\"Tweet {i}/{len(tweets)} Response: {r.json()['object']}\", end='\\r')"
   ]
  },
  {
   "cell_type": "markdown",
   "id": "43d4381f",
   "metadata": {},
   "source": [
    "## Get new access token"
   ]
  },
  {
   "cell_type": "code",
   "execution_count": null,
   "id": "5c5d7604",
   "metadata": {},
   "outputs": [],
   "source": [
    "refreshed_token = oauth.refresh_token(\n",
    "          client_id=client_id,\n",
    "          client_secret=client_secret,\n",
    "          token_url=token_url,\n",
    "          auth=auth,\n",
    "          refresh_token=token[\"refresh_token\"],\n",
    "        )\n",
    "refreshed_token"
   ]
  },
  {
   "cell_type": "code",
   "execution_count": null,
   "id": "716e6793",
   "metadata": {},
   "outputs": [],
   "source": [
    "access_token = refreshed_token[\"access_token\"]"
   ]
  }
 ],
 "metadata": {
  "kernelspec": {
   "display_name": "Python 3",
   "language": "python",
   "name": "python3"
  },
  "language_info": {
   "codemirror_mode": {
    "name": "ipython",
    "version": 3
   },
   "file_extension": ".py",
   "mimetype": "text/x-python",
   "name": "python",
   "nbconvert_exporter": "python",
   "pygments_lexer": "ipython3",
   "version": "3.8.5"
  }
 },
 "nbformat": 4,
 "nbformat_minor": 5
}
